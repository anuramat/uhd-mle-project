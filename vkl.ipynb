{
 "cells": [
  {
   "cell_type": "code",
   "execution_count": 4,
   "id": "7e7b43a2-fb12-48d9-9b3c-6f7917f0e69c",
   "metadata": {},
   "outputs": [],
   "source": [
    "import agent_code.vkl.models as models\n",
    "from agent_code.vkl.data import MoveDataset\n",
    "from torch.utils.data import DataLoader\n",
    "from torch import load, save\n",
    "import pytorch_lightning as L\n",
    "import torch\n",
    "from os import listdir\n",
    "from os.path import join\n",
    "import matplotlib.pyplot as plt\n",
    "from gc import collect"
   ]
  },
  {
   "cell_type": "markdown",
   "id": "4a47e236",
   "metadata": {},
   "source": [
    "# Parameters"
   ]
  },
  {
   "cell_type": "code",
   "execution_count": 5,
   "id": "816ea072-e446-4e97-ade8-f9ba0bfc4de9",
   "metadata": {},
   "outputs": [],
   "source": [
    "radius = 16\n",
    "epochs = 1000\n",
    "batch_size = 512\n",
    "torch.set_float32_matmul_precision(\"medium\")\n",
    "dtype = torch.float32\n",
    "precision = \"16-mixed\""
   ]
  },
  {
   "cell_type": "markdown",
   "id": "bd16f26d",
   "metadata": {},
   "source": [
    "# Data"
   ]
  },
  {
   "cell_type": "code",
   "execution_count": 6,
   "id": "66e81ce2-6545-4206-a01a-c0dab0545c7a",
   "metadata": {},
   "outputs": [
    {
     "data": {
      "text/plain": [
       "0"
      ]
     },
     "execution_count": 6,
     "metadata": {},
     "output_type": "execute_result"
    }
   ],
   "source": [
    "# join 4 datasets\n",
    "dir = \"agent_code/watcher/output/\"\n",
    "filenames = [f for f in listdir(dir) if f[-3:] == \".pt\"][:1]\n",
    "paths = [join(dir, f) for f in filenames]\n",
    "packed = sum([load(path, weights_only=False) for path in paths], [])\n",
    "\n",
    "dataset = MoveDataset(packed, radius=radius, dtype=dtype)\n",
    "dataloader = DataLoader(\n",
    "    dataset,\n",
    "    batch_size=batch_size,\n",
    "    shuffle=True,\n",
    "    num_workers=32,\n",
    "    pin_memory=True,\n",
    "    persistent_workers=True,\n",
    ")\n",
    "del packed\n",
    "collect()"
   ]
  },
  {
   "cell_type": "code",
   "execution_count": 7,
   "id": "0087281c-c561-49b2-8be4-dfc38b41c0a0",
   "metadata": {},
   "outputs": [
    {
     "data": {
      "text/plain": [
       "<matplotlib.image.AxesImage at 0x7f372395e120>"
      ]
     },
     "execution_count": 7,
     "metadata": {},
     "output_type": "execute_result"
    },
    {
     "data": {
      "image/png": "[encoded data removed]",
      "text/plain": [
       "<Figure size 640x480 with 1 Axes>"
      ]
     },
     "metadata": {},
     "output_type": "display_data"
    }
   ],
   "source": [
    "plt.imshow(dataset[2][0][0, ...])"
   ]
  },
  {
   "cell_type": "markdown",
   "id": "dd369dd9",
   "metadata": {},
   "source": [
    "# Model definition"
   ]
  },
  {
   "cell_type": "code",
   "execution_count": 4,
   "id": "7e9490ec-d067-4706-a0bd-9e888eec1f31",
   "metadata": {},
   "outputs": [
    {
     "name": "stdout",
     "output_type": "stream",
     "text": [
      "final conv layer side: 4\n"
     ]
    }
   ],
   "source": [
    "raw_model = models.BasicModel(radius)\n",
    "raw_model.to(dtype)\n",
    "total_steps = epochs * len(dataloader)\n",
    "model = models.LitBasicModel(raw_model, total_steps=total_steps)\n",
    "# model = torch.compile(model) # doesn't work for now"
   ]
  },
  {
   "cell_type": "markdown",
   "id": "4e6e233e-c9a7-4caa-a058-d72cb9ca54d6",
   "metadata": {},
   "source": [
    "# Training"
   ]
  },
  {
   "cell_type": "code",
   "execution_count": null,
   "id": "a91dd487-158e-44fa-b1f8-54bb6d971905",
   "metadata": {
    "editable": true,
    "slideshow": {
     "slide_type": ""
    },
    "tags": []
   },
   "outputs": [
    {
     "name": "stderr",
     "output_type": "stream",
     "text": [
      "Using 16bit Automatic Mixed Precision (AMP)\n",
      "GPU available: True (cuda), used: True\n",
      "TPU available: False, using: 0 TPU cores\n",
      "HPU available: False, using: 0 HPUs\n",
      "LOCAL_RANK: 0 - CUDA_VISIBLE_DEVICES: [0]\n",
      "\n",
      "  | Name  | Type       | Params | Mode \n",
      "---------------------------------------------\n",
      "0 | model | BasicModel | 1.1 M  | train\n",
      "---------------------------------------------\n",
      "1.1 M     Trainable params\n",
      "0         Non-trainable params\n",
      "1.1 M     Total params\n",
      "4.380     Total estimated model params size (MB)\n",
      "23        Modules in train mode\n",
      "0         Modules in eval mode\n"
     ]
    },
    {
     "data": {
      "application/vnd.jupyter.widget-view+json": {
       "model_id": "f7b449906c524a8589e681187c560736",
       "version_major": 2,
       "version_minor": 0
      },
      "text/plain": [
       "Training: |                                                                                                   …"
      ]
     },
     "metadata": {},
     "output_type": "display_data"
    }
   ],
   "source": [
    "trainer = L.Trainer(accelerator=\"gpu\", max_epochs=epochs, precision=precision)\n",
    "trainer.fit(model=model, train_dataloaders=dataloader)"
   ]
  },
  {
   "cell_type": "markdown",
   "id": "1a3a9cd8-5097-4e80-b4fd-d5afbc22c9ac",
   "metadata": {},
   "source": [
    "# Save the model"
   ]
  },
  {
   "cell_type": "code",
   "execution_count": null,
   "id": "6595d3a1-1be8-4aa0-a95d-bd0566cd3899",
   "metadata": {},
   "outputs": [],
   "source": [
    "save((raw_model, radius), \"agent_code/vkl/output/model.pt\")"
   ]
  }
 ],
 "metadata": {
  "jupytext": {
   "formats": "ipynb,py:percent"
  },
  "kernelspec": {
   "display_name": "Python 3 (ipykernel)",
   "language": "python",
   "name": "python3"
  },
  "language_info": {
   "codemirror_mode": {
    "name": "ipython",
    "version": 3
   },
   "file_extension": ".py",
   "mimetype": "text/x-python",
   "name": "python",
   "nbconvert_exporter": "python",
   "pygments_lexer": "ipython3",
   "version": "3.12.5"
  }
 },
 "nbformat": 4,
 "nbformat_minor": 5
}
