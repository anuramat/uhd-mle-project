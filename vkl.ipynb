{
 "cells": [
  {
   "cell_type": "code",
   "execution_count": 1,
   "id": "7e7b43a2-fb12-48d9-9b3c-6f7917f0e69c",
   "metadata": {},
   "outputs": [],
   "source": [
    "import agent_code.vkl.models as models\n",
    "from agent_code.vkl.data import MoveDataset\n",
    "from torch.utils.data import DataLoader\n",
    "from torch import load, save\n",
    "from pytorch_lightning.callbacks import TQDMProgressBar\n",
    "import pytorch_lightning as L\n",
    "import torch\n",
    "from os import listdir\n",
    "from os.path import join"
   ]
  },
  {
   "cell_type": "markdown",
   "id": "4a47e236",
   "metadata": {},
   "source": [
    "# Parameters"
   ]
  },
  {
   "cell_type": "code",
   "execution_count": 2,
   "id": "816ea072-e446-4e97-ade8-f9ba0bfc4de9",
   "metadata": {},
   "outputs": [],
   "source": [
    "radius = 17\n",
    "epochs = 1000\n",
    "batch_size = 512\n",
    "torch.set_float32_matmul_precision(\"medium\")\n",
    "dtype = torch.float32\n",
    "precision = 16"
   ]
  },
  {
   "cell_type": "markdown",
   "id": "bd16f26d",
   "metadata": {},
   "source": [
    "# Data"
   ]
  },
  {
   "cell_type": "code",
   "execution_count": 3,
   "id": "66e81ce2-6545-4206-a01a-c0dab0545c7a",
   "metadata": {},
   "outputs": [],
   "source": [
    "# join 4 datasets\n",
    "dir = \"agent_code/watcher/output/\"\n",
    "filenames = [f for f in listdir(dir) if f[-3:] == \".pt\"]\n",
    "paths = [join(dir, f) for f in filenames]\n",
    "packed = sum([load(path, weights_only=False) for path in paths], [])\n",
    "\n",
    "dataset = MoveDataset(packed, radius=radius, dtype=dtype)\n",
    "dataloader = DataLoader(\n",
    "    dataset,\n",
    "    batch_size=batch_size,\n",
    "    shuffle=True,\n",
    "    num_workers=32,\n",
    "    pin_memory=True,\n",
    "    persistent_workers=True,\n",
    ")"
   ]
  },
  {
   "cell_type": "markdown",
   "id": "dd369dd9",
   "metadata": {},
   "source": [
    "# Model definition"
   ]
  },
  {
   "cell_type": "code",
   "execution_count": 4,
   "id": "7e9490ec-d067-4706-a0bd-9e888eec1f31",
   "metadata": {},
   "outputs": [
    {
     "name": "stdout",
     "output_type": "stream",
     "text": [
      "final conv layer side: 4\n"
     ]
    }
   ],
   "source": [
    "raw_model = models.BasicModel(radius)\n",
    "raw_model.to(dtype)\n",
    "total_steps = epochs * len(dataloader)\n",
    "model = models.LitBasicModel(raw_model, total_steps=total_steps)\n",
    "# model = torch.compile(model) # doesn't work for now"
   ]
  },
  {
   "cell_type": "markdown",
   "id": "4e6e233e-c9a7-4caa-a058-d72cb9ca54d6",
   "metadata": {},
   "source": [
    "# Training"
   ]
  },
  {
   "cell_type": "code",
   "execution_count": null,
   "id": "a91dd487-158e-44fa-b1f8-54bb6d971905",
   "metadata": {
    "editable": true,
    "slideshow": {
     "slide_type": ""
    },
    "tags": []
   },
   "outputs": [
    {
     "name": "stderr",
     "output_type": "stream",
     "text": [
      "/nix/store/31sjmwkb2rypzm6b759l7ncq3k2kzzvr-python3-3.12.5-env/lib/python3.12/site-packages/lightning_fabric/connector.py:571: `precision=16` is supported for historical reasons but its usage is discouraged. Please set your precision to 16-mixed instead!\n",
      "Using 16bit Automatic Mixed Precision (AMP)\n",
      "GPU available: True (cuda), used: True\n",
      "TPU available: False, using: 0 TPU cores\n",
      "HPU available: False, using: 0 HPUs\n",
      "LOCAL_RANK: 0 - CUDA_VISIBLE_DEVICES: [0]\n",
      "\n",
      "  | Name  | Type       | Params | Mode \n",
      "---------------------------------------------\n",
      "0 | model | BasicModel | 1.1 M  | train\n",
      "---------------------------------------------\n",
      "1.1 M     Trainable params\n",
      "0         Non-trainable params\n",
      "1.1 M     Total params\n",
      "4.380     Total estimated model params size (MB)\n",
      "23        Modules in train mode\n",
      "0         Modules in eval mode\n",
      "/nix/store/31sjmwkb2rypzm6b759l7ncq3k2kzzvr-python3-3.12.5-env/lib/python3.12/site-packages/pytorch_lightning/loops/fit_loop.py:298: The number of training batches (16) is smaller than the logging interval Trainer(log_every_n_steps=50). Set a lower value for log_every_n_steps if you want to see logs for the training epoch.\n"
     ]
    },
    {
     "data": {
      "application/vnd.jupyter.widget-view+json": {
       "model_id": "921e31d5ff44495bbf5f3dcf89c65968",
       "version_major": 2,
       "version_minor": 0
      },
      "text/plain": [
       "Training: |                                                                                                   …"
      ]
     },
     "metadata": {},
     "output_type": "display_data"
    }
   ],
   "source": [
    "trainer = L.Trainer(accelerator=\"gpu\", max_epochs=epochs, precision=precision)\n",
    "trainer.fit(model=model, train_dataloaders=dataloader)"
   ]
  },
  {
   "cell_type": "markdown",
   "id": "1a3a9cd8-5097-4e80-b4fd-d5afbc22c9ac",
   "metadata": {},
   "source": [
    "# Save the model"
   ]
  },
  {
   "cell_type": "code",
   "execution_count": null,
   "id": "6595d3a1-1be8-4aa0-a95d-bd0566cd3899",
   "metadata": {},
   "outputs": [],
   "source": [
    "save((raw_model, radius), \"agent_code/vkl/output/model.pt\")"
   ]
  }
 ],
 "metadata": {
  "jupytext": {
   "formats": "ipynb,py:percent"
  },
  "kernelspec": {
   "display_name": "Python 3 (ipykernel)",
   "language": "python",
   "name": "python3"
  },
  "language_info": {
   "codemirror_mode": {
    "name": "ipython",
    "version": 3
   },
   "file_extension": ".py",
   "mimetype": "text/x-python",
   "name": "python",
   "nbconvert_exporter": "python",
   "pygments_lexer": "ipython3",
   "version": "3.12.5"
  }
 },
 "nbformat": 4,
 "nbformat_minor": 5
}
