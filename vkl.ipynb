{
 "cells": [
  {
   "cell_type": "code",
   "execution_count": 1,
   "id": "7e7b43a2-fb12-48d9-9b3c-6f7917f0e69c",
   "metadata": {},
   "outputs": [],
   "source": [
    "import agent_code.vkl.models as models\n",
    "from agent_code.vkl.data import MoveDataset\n",
    "from torch.utils.data import DataLoader\n",
    "from torch import load\n",
    "import pytorch_lightning as L"
   ]
  },
  {
   "cell_type": "code",
   "execution_count": 2,
   "id": "816ea072-e446-4e97-ade8-f9ba0bfc4de9",
   "metadata": {},
   "outputs": [],
   "source": [
    "radius = 18"
   ]
  },
  {
   "cell_type": "code",
   "execution_count": 3,
   "id": "66e81ce2-6545-4206-a01a-c0dab0545c7a",
   "metadata": {},
   "outputs": [
    {
     "name": "stderr",
     "output_type": "stream",
     "text": [
      "/tmp/ipykernel_534120/1448369257.py:1: FutureWarning: You are using `torch.load` with `weights_only=False` (the current default value), which uses the default pickle module implicitly. It is possible to construct malicious pickle data which will execute arbitrary code during unpickling (See https://github.com/pytorch/pytorch/blob/main/SECURITY.md#untrusted-models for more details). In a future release, the default value for `weights_only` will be flipped to `True`. This limits the functions that could be executed during unpickling. Arbitrary objects will no longer be allowed to be loaded via this mode unless they are explicitly allowlisted by the user via `torch.serialization.add_safe_globals`. We recommend you start setting `weights_only=True` for any use case where you don't have full control of the loaded file. Please open an issue on GitHub for any issues related to this experimental feature.\n",
      "  packed = load('agent_code/watcher/output/moves_0.pt')\n"
     ]
    }
   ],
   "source": [
    "packed = load('agent_code/watcher/output/moves_0.pt')\n",
    "dataset = MoveDataset(packed, radius=18)\n",
    "dataloader = DataLoader(dataset, batch_size=512)"
   ]
  },
  {
   "cell_type": "code",
   "execution_count": 4,
   "id": "7e9490ec-d067-4706-a0bd-9e888eec1f31",
   "metadata": {},
   "outputs": [],
   "source": [
    "model = models.BasicModel(radius)"
   ]
  },
  {
   "cell_type": "code",
   "execution_count": 5,
   "id": "fb27d3ef-b448-4dd8-8e34-3eeade08aacb",
   "metadata": {},
   "outputs": [],
   "source": [
    "map, bomb, action = next(iter(dataloader))"
   ]
  },
  {
   "cell_type": "code",
   "execution_count": 6,
   "id": "2a3ae8eb-b7f3-4daf-a59e-837a692eecf4",
   "metadata": {},
   "outputs": [],
   "source": [
    "pred = model(map, bomb)"
   ]
  },
  {
   "cell_type": "code",
   "execution_count": 7,
   "id": "d127e400-8535-4f91-8c29-166c16406aab",
   "metadata": {},
   "outputs": [
    {
     "name": "stdout",
     "output_type": "stream",
     "text": [
      "torch.Size([512, 6]) torch.float32\n"
     ]
    }
   ],
   "source": [
    "print(pred.shape, pred.dtype)"
   ]
  },
  {
   "cell_type": "code",
   "execution_count": 8,
   "id": "025a2869-e93a-43aa-8806-ee142002b759",
   "metadata": {},
   "outputs": [
    {
     "name": "stderr",
     "output_type": "stream",
     "text": [
      "GPU available: False, used: False\n",
      "TPU available: False, using: 0 TPU cores\n",
      "HPU available: False, using: 0 HPUs\n",
      "\n",
      "  | Name  | Type       | Params | Mode \n",
      "---------------------------------------------\n",
      "0 | model | BasicModel | 4.5 M  | train\n",
      "---------------------------------------------\n",
      "4.5 M     Trainable params\n",
      "0         Non-trainable params\n",
      "4.5 M     Total params\n",
      "17.868    Total estimated model params size (MB)\n",
      "10        Modules in train mode\n",
      "0         Modules in eval mode\n",
      "/nix/store/xdk2q637syammka28xvi63qcc47rbz4d-python3-3.12.5-env/lib/python3.12/site-packages/pytorch_lightning/trainer/connectors/data_connector.py:424: The 'train_dataloader' does not have many workers which may be a bottleneck. Consider increasing the value of the `num_workers` argument` to `num_workers=31` in the `DataLoader` to improve performance.\n",
      "/nix/store/xdk2q637syammka28xvi63qcc47rbz4d-python3-3.12.5-env/lib/python3.12/site-packages/pytorch_lightning/loops/fit_loop.py:298: The number of training batches (44) is smaller than the logging interval Trainer(log_every_n_steps=50). Set a lower value for log_every_n_steps if you want to see logs for the training epoch.\n"
     ]
    },
    {
     "data": {
      "application/vnd.jupyter.widget-view+json": {
       "model_id": "57ef1df6d6a543fcbb670128d0fee28f",
       "version_major": 2,
       "version_minor": 0
      },
      "text/plain": [
       "Training: |                                                                                                   …"
      ]
     },
     "metadata": {},
     "output_type": "display_data"
    },
    {
     "name": "stderr",
     "output_type": "stream",
     "text": [
      "/nix/store/xdk2q637syammka28xvi63qcc47rbz4d-python3-3.12.5-env/lib/python3.12/site-packages/pytorch_lightning/loops/optimization/automatic.py:132: `training_step` returned `None`. If this was on purpose, ignore this warning...\n",
      "`Trainer.fit` stopped: `max_epochs=1` reached.\n"
     ]
    }
   ],
   "source": [
    "lmodel = models.LitBasicModel(model)\n",
    "trainer = L.Trainer(limit_train_batches=100, max_epochs=1)\n",
    "trainer.fit(model=lmodel, train_dataloaders=dataloader)"
   ]
  },
  {
   "cell_type": "code",
   "execution_count": null,
   "id": "b53d6710-742f-4163-9bb7-5208144dbff9",
   "metadata": {},
   "outputs": [],
   "source": []
  }
 ],
 "metadata": {
  "kernelspec": {
   "display_name": "Python 3 (ipykernel)",
   "language": "python",
   "name": "python3"
  },
  "language_info": {
   "codemirror_mode": {
    "name": "ipython",
    "version": 3
   },
   "file_extension": ".py",
   "mimetype": "text/x-python",
   "name": "python",
   "nbconvert_exporter": "python",
   "pygments_lexer": "ipython3",
   "version": "3.12.5"
  }
 },
 "nbformat": 4,
 "nbformat_minor": 5
}
